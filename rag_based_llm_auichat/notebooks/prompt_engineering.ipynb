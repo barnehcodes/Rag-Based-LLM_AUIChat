{
 "cells": [
  {
   "cell_type": "markdown",
   "id": "a7d3c5e8",
   "metadata": {},
   "source": [
    "# 🧪 Prompt Engineering Experiments with Local Models 🧪\n",
    "\n",
    "In this notebook, we'll test different prompt styles with SmolLM models loaded locally. We'll track performance metrics using MLflow to determine the most effective prompts for our RAG application."
   ]
  },
  {
   "cell_type": "code",
   "execution_count": 1,
   "id": "42be8f81",
   "metadata": {},
   "outputs": [],
   "source": [
    "from llama_index.core import SimpleDirectoryReader, VectorStoreIndex, StorageContext, Settings\n",
    "from llama_index.embeddings.huggingface import HuggingFaceEmbedding\n",
    "from llama_index.core.node_parser import SentenceSplitter\n",
    "import re\n",
    "import mlflow\n",
    "import time\n",
    "import numpy as np\n",
    "import torch\n",
    "import pandas as pd\n",
    "import matplotlib.pyplot as plt\n",
    "import seaborn as sns\n",
    "from tqdm.notebook import tqdm\n"
   ]
  },
  {
   "cell_type": "code",
   "execution_count": 2,
   "id": "1b812efa",
   "metadata": {},
   "outputs": [
    {
     "data": {
      "text/plain": [
       "<Experiment: artifact_location='file:///home/barneh/Rag-Based-LLM_AUIChat/rag_based_llm_auichat/notebooks/mlruns/853101457179149251', creation_time=1745261011384, experiment_id='853101457179149251', last_update_time=1745261011384, lifecycle_stage='active', name='AUIChat-Local-Prompt-Experiments', tags={}>"
      ]
     },
     "execution_count": 2,
     "metadata": {},
     "output_type": "execute_result"
    }
   ],
   "source": [
    "# Import necessary libraries for local model loading\n",
    "from transformers import AutoModelForCausalLM, AutoTokenizer, pipeline\n",
    "import torch\n",
    "import time\n",
    "import json\n",
    "import mlflow\n",
    "from tqdm.notebook import tqdm\n",
    "\n",
    "# Make sure we're tracking with MLflow\n",
    "mlflow.set_tracking_uri(\"file:./mlruns\")\n",
    "mlflow.set_experiment(\"AUIChat-Local-Prompt-Experiments\")"
   ]
  },
  {
   "cell_type": "markdown",
   "id": "762b7999",
   "metadata": {},
   "source": [
    "## Define Models for Testing\n",
    "\n",
    "We'll use SmolLM models for our local testing. These models are small enough to run locally."
   ]
  },
  {
   "cell_type": "code",
   "execution_count": 3,
   "id": "91f7ff1a",
   "metadata": {},
   "outputs": [
    {
     "name": "stdout",
     "output_type": "stream",
     "text": [
      "Using device: cpu\n"
     ]
    }
   ],
   "source": [
    "# Define the models to test - only SmolLM models (smaller ones that work locally)\n",
    "models = {\n",
    "    \"smollm_135m\": \"HuggingFaceTB/SmolLM-135M-Instruct\",\n",
    "    \"smollm_360m\": \"HuggingFaceTB/SmolLM-360M-Instruct\"\n",
    "}\n",
    "\n",
    "# Device configuration - use CUDA if available, otherwise CPU\n",
    "device = \"cuda\" if torch.cuda.is_available() else \"cpu\"\n",
    "print(f\"Using device: {device}\")"
   ]
  },
  {
   "cell_type": "code",
   "execution_count": 6,
   "id": "38e08d00",
   "metadata": {},
   "outputs": [],
   "source": [
    "# Function to load models locally\n",
    "def load_model(model_name, model_id):\n",
    "    print(f\"Loading {model_name} locally...\")\n",
    "    start_time = time.time()\n",
    "    \n",
    "    # Load tokenizer and model from HuggingFace\n",
    "    # Added trust_remote_code=True\n",
    "    tokenizer = AutoTokenizer.from_pretrained(model_id, trust_remote_code=True)\n",
    "    model = AutoModelForCausalLM.from_pretrained(\n",
    "        model_id, \n",
    "        torch_dtype=torch.float16 if device == \"cuda\" else torch.float32,\n",
    "    )\n",
    "    \n",
    "    # Move model to the appropriate device\n",
    "    model = model.to(device)\n",
    "    \n",
    "    # Create text generation pipeline\n",
    "    pipe = pipeline(\n",
    "        \"text-generation\",\n",
    "        model=model,\n",
    "        tokenizer=tokenizer,\n",
    "        device=0 if device == \"cuda\" else -1,  # -1 means CPU\n",
    "    )\n",
    "    \n",
    "    load_time = time.time() - start_time\n",
    "    print(f\"Model loaded in {load_time:.2f} seconds\")\n",
    "    \n",
    "    return pipe, load_time"
   ]
  },
  {
   "cell_type": "code",
   "execution_count": 7,
   "id": "f4e2993d",
   "metadata": {},
   "outputs": [
    {
     "name": "stdout",
     "output_type": "stream",
     "text": [
      "Loading smollm_135m locally...\n"
     ]
    },
    {
     "name": "stderr",
     "output_type": "stream",
     "text": [
      "Xet Storage is enabled for this repo, but the 'hf_xet' package is not installed. Falling back to regular HTTP download. For better performance, install the package with: `pip install huggingface_hub[hf_xet]` or `pip install hf_xet`\n"
     ]
    },
    {
     "data": {
      "application/vnd.jupyter.widget-view+json": {
       "model_id": "a9a0e72b1fb34766b9e95b3b29bd8d05",
       "version_major": 2,
       "version_minor": 0
      },
      "text/plain": [
       "model.safetensors:  16%|#5        | 41.9M/269M [00:00<?, ?B/s]"
      ]
     },
     "metadata": {},
     "output_type": "display_data"
    },
    {
     "data": {
      "application/vnd.jupyter.widget-view+json": {
       "model_id": "f38d05ae0a194095ac56bdc30f4bcfef",
       "version_major": 2,
       "version_minor": 0
      },
      "text/plain": [
       "generation_config.json:   0%|          | 0.00/156 [00:00<?, ?B/s]"
      ]
     },
     "metadata": {},
     "output_type": "display_data"
    },
    {
     "name": "stderr",
     "output_type": "stream",
     "text": [
      "Device set to use cpu\n"
     ]
    },
    {
     "name": "stdout",
     "output_type": "stream",
     "text": [
      "Model loaded in 60.66 seconds\n",
      "Loading smollm_360m locally...\n"
     ]
    },
    {
     "data": {
      "application/vnd.jupyter.widget-view+json": {
       "model_id": "4c9008bc152d4c358f7b0d57de54b6f6",
       "version_major": 2,
       "version_minor": 0
      },
      "text/plain": [
       "tokenizer_config.json:   0%|          | 0.00/3.59k [00:00<?, ?B/s]"
      ]
     },
     "metadata": {},
     "output_type": "display_data"
    },
    {
     "data": {
      "application/vnd.jupyter.widget-view+json": {
       "model_id": "71e46f59e98f46ecb4e02b9b2706a422",
       "version_major": 2,
       "version_minor": 0
      },
      "text/plain": [
       "vocab.json:   0%|          | 0.00/801k [00:00<?, ?B/s]"
      ]
     },
     "metadata": {},
     "output_type": "display_data"
    },
    {
     "data": {
      "application/vnd.jupyter.widget-view+json": {
       "model_id": "c62e5607158c450591a4838c78941839",
       "version_major": 2,
       "version_minor": 0
      },
      "text/plain": [
       "merges.txt:   0%|          | 0.00/466k [00:00<?, ?B/s]"
      ]
     },
     "metadata": {},
     "output_type": "display_data"
    },
    {
     "data": {
      "application/vnd.jupyter.widget-view+json": {
       "model_id": "32fabdef578649518d959cc7ac848a47",
       "version_major": 2,
       "version_minor": 0
      },
      "text/plain": [
       "tokenizer.json:   0%|          | 0.00/2.10M [00:00<?, ?B/s]"
      ]
     },
     "metadata": {},
     "output_type": "display_data"
    },
    {
     "data": {
      "application/vnd.jupyter.widget-view+json": {
       "model_id": "7dd9ede9ca394f359e950e00ff2be363",
       "version_major": 2,
       "version_minor": 0
      },
      "text/plain": [
       "special_tokens_map.json:   0%|          | 0.00/565 [00:00<?, ?B/s]"
      ]
     },
     "metadata": {},
     "output_type": "display_data"
    },
    {
     "data": {
      "application/vnd.jupyter.widget-view+json": {
       "model_id": "e40b3c458f4f4100968651bc956ba600",
       "version_major": 2,
       "version_minor": 0
      },
      "text/plain": [
       "config.json:   0%|          | 0.00/724 [00:00<?, ?B/s]"
      ]
     },
     "metadata": {},
     "output_type": "display_data"
    },
    {
     "name": "stderr",
     "output_type": "stream",
     "text": [
      "Xet Storage is enabled for this repo, but the 'hf_xet' package is not installed. Falling back to regular HTTP download. For better performance, install the package with: `pip install huggingface_hub[hf_xet]` or `pip install hf_xet`\n"
     ]
    },
    {
     "data": {
      "application/vnd.jupyter.widget-view+json": {
       "model_id": "217dd457150744379fc7b9950d7ad495",
       "version_major": 2,
       "version_minor": 0
      },
      "text/plain": [
       "model.safetensors:   0%|          | 0.00/724M [00:00<?, ?B/s]"
      ]
     },
     "metadata": {},
     "output_type": "display_data"
    },
    {
     "data": {
      "application/vnd.jupyter.widget-view+json": {
       "model_id": "8ed3bedc6be94cc1b125c6c8ff4fe7c8",
       "version_major": 2,
       "version_minor": 0
      },
      "text/plain": [
       "generation_config.json:   0%|          | 0.00/156 [00:00<?, ?B/s]"
      ]
     },
     "metadata": {},
     "output_type": "display_data"
    },
    {
     "name": "stderr",
     "output_type": "stream",
     "text": [
      "Device set to use cpu\n"
     ]
    },
    {
     "name": "stdout",
     "output_type": "stream",
     "text": [
      "Model loaded in 173.77 seconds\n"
     ]
    }
   ],
   "source": [
    "# Load models\n",
    "model_pipelines = {}\n",
    "model_load_times = {}\n",
    "\n",
    "for model_name, model_id in models.items():\n",
    "    model_pipelines[model_name], model_load_times[model_name] = load_model(model_name, model_id)"
   ]
  },
  {
   "cell_type": "markdown",
   "id": "75a023b1",
   "metadata": {},
   "source": [
    "## Define Test Questions\n",
    "\n",
    "We'll use questions related to AUI admissions and counseling since that's the domain of our RAG application."
   ]
  },
  {
   "cell_type": "code",
   "execution_count": 8,
   "id": "46d87a35",
   "metadata": {},
   "outputs": [],
   "source": [
    "test_questions = [\n",
    "    \"What are the requirements for the PiP program?\",\n",
    "    \"How do I apply to AUI as a transfer student?\",\n",
    "    \"What counseling services are available at AUI?\",\n",
    "    \"What is the admission process for international students?\",\n",
    "    \"Tell me about undergraduate admission for visiting students.\"\n",
    "]"
   ]
  },
  {
   "cell_type": "markdown",
   "id": "1d9a1dc1",
   "metadata": {},
   "source": [
    "## Define Prompt Templates\n",
    "\n",
    "We'll test 7 different prompt styles to evaluate their effectiveness."
   ]
  },
  {
   "cell_type": "code",
   "execution_count": 9,
   "id": "38188110",
   "metadata": {},
   "outputs": [],
   "source": [
    "# Define different prompt templates with various styles and approaches\n",
    "prompt_templates = {\n",
    "    \"basic\": \"{question}\",\n",
    "    \n",
    "    \"polite\": \"Could you please help me with this question? {question} Thank you!\",\n",
    "    \n",
    "    \"role_based\": \"You are an AI assistant for Al Akhawayn University in Ifrane. Please answer the following question accurately: {question}\",\n",
    "    \n",
    "    \"structured\": \"Question: {question}\\nAnswer: \",\n",
    "    \n",
    "    \"contextual\": \"I'm a student looking for information about Al Akhawayn University in Morocco. {question} Please provide detailed information.\",\n",
    "    \n",
    "    \"chain_of_thought\": \"I need to answer this question: {question}\\n\\nLet me think step by step about how to provide the most accurate and helpful response.\",\n",
    "    \n",
    "    \"concise\": \"Answer this question briefly and directly: {question} Use no more than 3 sentences.\"\n",
    "}"
   ]
  },
  {
   "cell_type": "markdown",
   "id": "bbbeabc7",
   "metadata": {},
   "source": [
    "## Helper Function for Running Prompt Experiments"
   ]
  },
  {
   "cell_type": "code",
   "execution_count": 10,
   "id": "a046f533",
   "metadata": {},
   "outputs": [],
   "source": [
    "def run_local_prompt_experiment(model_name, pipeline, prompt_style, template, question, max_new_tokens=512, temperature=0.7):\n",
    "    \"\"\"Run an experiment with a specific model, prompt style and question using a local model\"\"\"\n",
    "    # Format the prompt using the template\n",
    "    formatted_prompt = template.format(question=question)\n",
    "    \n",
    "    # Start the timer\n",
    "    start_time = time.time()\n",
    "    \n",
    "    # Run the inference with the local model\n",
    "    results = pipeline(\n",
    "        formatted_prompt,\n",
    "        max_new_tokens=max_new_tokens,\n",
    "        do_sample=True,\n",
    "        temperature=temperature,\n",
    "        return_full_text=False,\n",
    "        pad_token_id=50256,  # Default pad token ID\n",
    "    )\n",
    "    \n",
    "    # Extract response text\n",
    "    response = results[0]['generated_text']\n",
    "    \n",
    "    # Calculate inference time\n",
    "    inference_time = time.time() - start_time\n",
    "    \n",
    "    # Calculate response length metrics\n",
    "    response_chars = len(response)\n",
    "    response_words = len(response.split())\n",
    "    response_sentences = len([s for s in response.split('.') if s.strip()])\n",
    "    chars_per_second = response_chars / inference_time if inference_time > 0 else 0\n",
    "    \n",
    "    # Log with MLflow\n",
    "    with mlflow.start_run(run_name=f\"{model_name}_{prompt_style}\"):\n",
    "        # Log parameters\n",
    "        mlflow.log_param(\"model\", model_name)\n",
    "        mlflow.log_param(\"prompt_style\", prompt_style)\n",
    "        mlflow.log_param(\"question\", question)\n",
    "        mlflow.log_param(\"template\", template)\n",
    "        mlflow.log_param(\"temperature\", temperature)\n",
    "        mlflow.log_param(\"max_new_tokens\", max_new_tokens)\n",
    "        mlflow.log_param(\"device\", device)\n",
    "        \n",
    "        # Log metrics\n",
    "        mlflow.log_metric(\"inference_time_seconds\", inference_time)\n",
    "        mlflow.log_metric(\"response_length_chars\", response_chars)\n",
    "        mlflow.log_metric(\"response_length_words\", response_words)\n",
    "        mlflow.log_metric(\"response_sentences\", response_sentences)\n",
    "        mlflow.log_metric(\"chars_per_second\", chars_per_second)\n",
    "        \n",
    "        # Log the prompt and response as artifacts\n",
    "        mlflow.log_text(formatted_prompt, \"prompt.txt\")\n",
    "        mlflow.log_text(response, \"response.txt\")\n",
    "    \n",
    "    # Return results for display\n",
    "    return {\n",
    "        \"model\": model_name,\n",
    "        \"prompt_style\": prompt_style,\n",
    "        \"question\": question,\n",
    "        \"response\": response,\n",
    "        \"inference_time\": inference_time,\n",
    "        \"chars_per_second\": chars_per_second,\n",
    "        \"response_length\": {\n",
    "            \"chars\": response_chars,\n",
    "            \"words\": response_words,\n",
    "            \"sentences\": response_sentences\n",
    "        }\n",
    "    }"
   ]
  },
  {
   "cell_type": "markdown",
   "id": "4544ac4c",
   "metadata": {},
   "source": [
    "## Run Single Model Experiment\n",
    "\n",
    "Let's run an experiment with one model and one prompt style to make sure everything works."
   ]
  },
  {
   "cell_type": "code",
   "execution_count": 11,
   "id": "2a5838b6",
   "metadata": {},
   "outputs": [
    {
     "name": "stdout",
     "output_type": "stream",
     "text": [
      "Model: smollm_135m\n",
      "Prompt Style: basic\n",
      "Question: What are the requirements for the PiP program?\n",
      "Inference Time: 0.14 seconds\n",
      "Chars/Second: 0.00\n",
      "Response Length: {'chars': 0, 'words': 0, 'sentences': 0}\n",
      "\n",
      "Response:\n",
      "\n"
     ]
    }
   ],
   "source": [
    "# Run a test with SmolLM-135M and the basic prompt style\n",
    "test_result = run_local_prompt_experiment(\n",
    "    model_name=\"smollm_135m\",\n",
    "    pipeline=model_pipelines[\"smollm_135m\"],\n",
    "    prompt_style=\"basic\",\n",
    "    template=prompt_templates[\"basic\"],\n",
    "    question=test_questions[0]\n",
    ")\n",
    "\n",
    "print(f\"Model: {test_result['model']}\")\n",
    "print(f\"Prompt Style: {test_result['prompt_style']}\")\n",
    "print(f\"Question: {test_result['question']}\")\n",
    "print(f\"Inference Time: {test_result['inference_time']:.2f} seconds\")\n",
    "print(f\"Chars/Second: {test_result['chars_per_second']:.2f}\")\n",
    "print(f\"Response Length: {test_result['response_length']}\")\n",
    "print(\"\\nResponse:\")\n",
    "print(test_result['response'])"
   ]
  },
  {
   "cell_type": "markdown",
   "id": "ccb431e6",
   "metadata": {},
   "source": [
    "## Run Comprehensive Experiments\n",
    "\n",
    "Now let's run experiments with all combinations of models, prompt styles, and questions.\n",
    "We'll organize them by model to avoid overwhelming the notebook output."
   ]
  },
  {
   "cell_type": "markdown",
   "id": "a7149e88",
   "metadata": {},
   "source": [
    "### SmolLM-135M-Instruct Experiments"
   ]
  },
  {
   "cell_type": "code",
   "execution_count": 12,
   "id": "717f00a0",
   "metadata": {},
   "outputs": [
    {
     "data": {
      "application/vnd.jupyter.widget-view+json": {
       "model_id": "38e19cfb9e9e4eea8f437db2f5af6985",
       "version_major": 2,
       "version_minor": 0
      },
      "text/plain": [
       "Testing SmolLM-135M with different prompts:   0%|          | 0/7 [00:00<?, ?it/s]"
      ]
     },
     "metadata": {},
     "output_type": "display_data"
    },
    {
     "name": "stdout",
     "output_type": "stream",
     "text": [
      "\n",
      "BASIC - Time: 0.23s, Chars: 0\n",
      "\n",
      "POLITE - Time: 1.00s, Chars: 44\n",
      "\n",
      "ROLE_BASED - Time: 0.18s, Chars: 0\n",
      "\n",
      "STRUCTURED - Time: 40.77s, Chars: 2252\n",
      "\n",
      "CONTEXTUAL - Time: 0.21s, Chars: 0\n",
      "\n",
      "CHAIN_OF_THOUGHT - Time: 48.50s, Chars: 2190\n",
      "\n",
      "CONCISE - Time: 0.12s, Chars: 0\n"
     ]
    }
   ],
   "source": [
    "# Run experiments for SmolLM-135M model\n",
    "model_name = \"smollm_135m\"\n",
    "question = test_questions[0]  # Using just the first question for all prompt styles\n",
    "\n",
    "smollm_135m_results = []\n",
    "for prompt_style, template in tqdm(prompt_templates.items(), desc=\"Testing SmolLM-135M with different prompts\"):\n",
    "    result = run_local_prompt_experiment(\n",
    "        model_name=model_name,\n",
    "        pipeline=model_pipelines[model_name],\n",
    "        prompt_style=prompt_style,\n",
    "        template=template,\n",
    "        question=question\n",
    "    )\n",
    "    smollm_135m_results.append(result)\n",
    "    \n",
    "    # Print brief summary\n",
    "    print(f\"\\n{prompt_style.upper()} - Time: {result['inference_time']:.2f}s, Chars: {result['response_length']['chars']}\")"
   ]
  },
  {
   "cell_type": "markdown",
   "id": "19cc0b00",
   "metadata": {},
   "source": [
    "### SmolLM-360M-Instruct Experiments"
   ]
  },
  {
   "cell_type": "code",
   "execution_count": 13,
   "id": "4df2a327",
   "metadata": {},
   "outputs": [
    {
     "data": {
      "application/vnd.jupyter.widget-view+json": {
       "model_id": "d6ea5bf1fea047ee8e73942340c28f4b",
       "version_major": 2,
       "version_minor": 0
      },
      "text/plain": [
       "Testing SmolLM-360M with different prompts:   0%|          | 0/7 [00:00<?, ?it/s]"
      ]
     },
     "metadata": {},
     "output_type": "display_data"
    },
    {
     "name": "stdout",
     "output_type": "stream",
     "text": [
      "\n",
      "BASIC - Time: 0.34s, Chars: 0\n",
      "\n",
      "POLITE - Time: 0.52s, Chars: 0\n",
      "\n",
      "ROLE_BASED - Time: 0.57s, Chars: 0\n",
      "\n",
      "STRUCTURED - Time: 16.46s, Chars: 688\n",
      "\n",
      "CONTEXTUAL - Time: 0.29s, Chars: 0\n",
      "\n",
      "CHAIN_OF_THOUGHT - Time: 61.43s, Chars: 2082\n",
      "\n",
      "CONCISE - Time: 0.30s, Chars: 0\n"
     ]
    }
   ],
   "source": [
    "# Run experiments for SmolLM-360M model\n",
    "model_name = \"smollm_360m\"\n",
    "question = test_questions[0]  # Using just the first question for all prompt styles\n",
    "\n",
    "smollm_360m_results = []\n",
    "for prompt_style, template in tqdm(prompt_templates.items(), desc=\"Testing SmolLM-360M with different prompts\"):\n",
    "    result = run_local_prompt_experiment(\n",
    "        model_name=model_name,\n",
    "        pipeline=model_pipelines[model_name],\n",
    "        prompt_style=prompt_style,\n",
    "        template=template,\n",
    "        question=question\n",
    "    )\n",
    "    smollm_360m_results.append(result)\n",
    "    \n",
    "    # Print brief summary\n",
    "    print(f\"\\n{prompt_style.upper()} - Time: {result['inference_time']:.2f}s, Chars: {result['response_length']['chars']}\")"
   ]
  },
  {
   "cell_type": "markdown",
   "id": "5c5d07c6",
   "metadata": {},
   "source": [
    "## Identify Best Prompt Styles\n",
    "\n",
    "Let's identify the best prompt style based on the experiments above for each model."
   ]
  },
  {
   "cell_type": "code",
   "execution_count": 14,
   "id": "aac470a3",
   "metadata": {},
   "outputs": [
    {
     "name": "stdout",
     "output_type": "stream",
     "text": [
      "Best prompt style for SmolLM-135M: structured (score: 243.85)\n",
      "Best prompt style for SmolLM-360M: chain_of_thought (score: 226.21)\n"
     ]
    }
   ],
   "source": [
    "# Function to determine the best prompt style based on response quality and speed\n",
    "def analyze_prompt_results(results_list):\n",
    "    # This is a simplified analysis - in a real scenario, you might want to evaluate response quality too\n",
    "    best_style = None\n",
    "    best_score = 0\n",
    "    \n",
    "    for result in results_list:\n",
    "        # Create a score based on response length and speed\n",
    "        # Higher words and sentences are good, faster response time is good\n",
    "        score = (result['response_length']['words'] * 0.5 + \n",
    "                result['response_length']['sentences'] * 2 - \n",
    "                result['inference_time'] * 0.2)\n",
    "        \n",
    "        if best_style is None or score > best_score:\n",
    "            best_style = result['prompt_style']\n",
    "            best_score = score\n",
    "            \n",
    "    return best_style, best_score\n",
    "\n",
    "# Analyze results from each model\n",
    "smollm_135m_best, smollm_135m_score = analyze_prompt_results(smollm_135m_results)\n",
    "smollm_360m_best, smollm_360m_score = analyze_prompt_results(smollm_360m_results)\n",
    "\n",
    "print(f\"Best prompt style for SmolLM-135M: {smollm_135m_best} (score: {smollm_135m_score:.2f})\")\n",
    "print(f\"Best prompt style for SmolLM-360M: {smollm_360m_best} (score: {smollm_360m_score:.2f})\")"
   ]
  },
  {
   "cell_type": "markdown",
   "id": "8db627e1",
   "metadata": {},
   "source": [
    "## Test All Questions with Best Prompt Styles\n",
    "\n",
    "Now let's test each model with all questions using their optimal prompt style."
   ]
  },
  {
   "cell_type": "code",
   "execution_count": 15,
   "id": "b5757288",
   "metadata": {},
   "outputs": [
    {
     "name": "stdout",
     "output_type": "stream",
     "text": [
      "\n",
      "Testing smollm_135m with structured prompt style across all questions:\n"
     ]
    },
    {
     "data": {
      "application/vnd.jupyter.widget-view+json": {
       "model_id": "653661530cff4cfbab60e3ae266469d8",
       "version_major": 2,
       "version_minor": 0
      },
      "text/plain": [
       "  0%|          | 0/5 [00:00<?, ?it/s]"
      ]
     },
     "metadata": {},
     "output_type": "display_data"
    },
    {
     "name": "stdout",
     "output_type": "stream",
     "text": [
      "Question: What are the requirements for ... - Time: 52.60s\n",
      "Question: How do I apply to AUI as a tra... - Time: 36.22s\n",
      "Question: What counseling services are a... - Time: 28.55s\n",
      "Question: What is the admission process ... - Time: 29.00s\n",
      "Question: Tell me about undergraduate ad... - Time: 30.88s\n",
      "\n",
      "Testing smollm_360m with chain_of_thought prompt style across all questions:\n"
     ]
    },
    {
     "data": {
      "application/vnd.jupyter.widget-view+json": {
       "model_id": "7687681a225a4023b99ddd24e48c6bc5",
       "version_major": 2,
       "version_minor": 0
      },
      "text/plain": [
       "  0%|          | 0/5 [00:00<?, ?it/s]"
      ]
     },
     "metadata": {},
     "output_type": "display_data"
    },
    {
     "name": "stdout",
     "output_type": "stream",
     "text": [
      "Question: What are the requirements for ... - Time: 57.34s\n",
      "Question: How do I apply to AUI as a tra... - Time: 58.43s\n",
      "Question: What counseling services are a... - Time: 57.53s\n",
      "Question: What is the admission process ... - Time: 57.28s\n",
      "Question: Tell me about undergraduate ad... - Time: 56.97s\n"
     ]
    }
   ],
   "source": [
    "# Run comprehensive tests with all questions using the best prompt style for each model\n",
    "comprehensive_results = []\n",
    "\n",
    "# For each model, use its optimal prompt style\n",
    "model_prompt_pairs = [\n",
    "    (\"smollm_135m\", smollm_135m_best),\n",
    "    (\"smollm_360m\", smollm_360m_best)\n",
    "]\n",
    "\n",
    "# Test each model with all questions\n",
    "for model_name, prompt_style in model_prompt_pairs:\n",
    "    print(f\"\\nTesting {model_name} with {prompt_style} prompt style across all questions:\")\n",
    "    for question in tqdm(test_questions):\n",
    "        result = run_local_prompt_experiment(\n",
    "            model_name=model_name,\n",
    "            pipeline=model_pipelines[model_name],\n",
    "            prompt_style=prompt_style,\n",
    "            template=prompt_templates[prompt_style],\n",
    "            question=question\n",
    "        )\n",
    "        comprehensive_results.append(result)\n",
    "        print(f\"Question: {question[:30]}... - Time: {result['inference_time']:.2f}s\")"
   ]
  },
  {
   "cell_type": "markdown",
   "id": "5c1ee367",
   "metadata": {},
   "source": [
    "## Analyze and Visualize Results"
   ]
  },
  {
   "cell_type": "code",
   "execution_count": 16,
   "id": "ff5a9508",
   "metadata": {},
   "outputs": [
    {
     "name": "stdout",
     "output_type": "stream",
     "text": [
      "Summary statistics by model:\n"
     ]
    },
    {
     "data": {
      "text/html": [
       "<div>\n",
       "<style scoped>\n",
       "    .dataframe tbody tr th:only-of-type {\n",
       "        vertical-align: middle;\n",
       "    }\n",
       "\n",
       "    .dataframe tbody tr th {\n",
       "        vertical-align: top;\n",
       "    }\n",
       "\n",
       "    .dataframe thead tr th {\n",
       "        text-align: left;\n",
       "    }\n",
       "\n",
       "    .dataframe thead tr:last-of-type th {\n",
       "        text-align: right;\n",
       "    }\n",
       "</style>\n",
       "<table border=\"1\" class=\"dataframe\">\n",
       "  <thead>\n",
       "    <tr>\n",
       "      <th></th>\n",
       "      <th colspan=\"3\" halign=\"left\">inference_time</th>\n",
       "      <th colspan=\"3\" halign=\"left\">chars_per_second</th>\n",
       "      <th colspan=\"3\" halign=\"left\">words</th>\n",
       "    </tr>\n",
       "    <tr>\n",
       "      <th></th>\n",
       "      <th>mean</th>\n",
       "      <th>min</th>\n",
       "      <th>max</th>\n",
       "      <th>mean</th>\n",
       "      <th>min</th>\n",
       "      <th>max</th>\n",
       "      <th>mean</th>\n",
       "      <th>min</th>\n",
       "      <th>max</th>\n",
       "    </tr>\n",
       "    <tr>\n",
       "      <th>model</th>\n",
       "      <th></th>\n",
       "      <th></th>\n",
       "      <th></th>\n",
       "      <th></th>\n",
       "      <th></th>\n",
       "      <th></th>\n",
       "      <th></th>\n",
       "      <th></th>\n",
       "      <th></th>\n",
       "    </tr>\n",
       "  </thead>\n",
       "  <tbody>\n",
       "    <tr>\n",
       "      <th>smollm_135m</th>\n",
       "      <td>13.001143</td>\n",
       "      <td>0.117078</td>\n",
       "      <td>48.496233</td>\n",
       "      <td>20.652690</td>\n",
       "      <td>0.0</td>\n",
       "      <td>55.235880</td>\n",
       "      <td>101.714286</td>\n",
       "      <td>0</td>\n",
       "      <td>373</td>\n",
       "    </tr>\n",
       "    <tr>\n",
       "      <th>smollm_360m</th>\n",
       "      <td>11.415458</td>\n",
       "      <td>0.285984</td>\n",
       "      <td>61.432609</td>\n",
       "      <td>10.812574</td>\n",
       "      <td>0.0</td>\n",
       "      <td>41.797221</td>\n",
       "      <td>70.714286</td>\n",
       "      <td>0</td>\n",
       "      <td>373</td>\n",
       "    </tr>\n",
       "  </tbody>\n",
       "</table>\n",
       "</div>"
      ],
      "text/plain": [
       "            inference_time                      chars_per_second       \\\n",
       "                      mean       min        max             mean  min   \n",
       "model                                                                   \n",
       "smollm_135m      13.001143  0.117078  48.496233        20.652690  0.0   \n",
       "smollm_360m      11.415458  0.285984  61.432609        10.812574  0.0   \n",
       "\n",
       "                             words           \n",
       "                   max        mean min  max  \n",
       "model                                        \n",
       "smollm_135m  55.235880  101.714286   0  373  \n",
       "smollm_360m  41.797221   70.714286   0  373  "
      ]
     },
     "metadata": {},
     "output_type": "display_data"
    }
   ],
   "source": [
    "# Convert results to DataFrame for easier analysis\n",
    "def results_to_df(results_list):\n",
    "    data = []\n",
    "    for r in results_list:\n",
    "        data.append({\n",
    "            'model': r['model'],\n",
    "            'prompt_style': r['prompt_style'],\n",
    "            'question': r['question'][:30] + '...',  # Truncate for readability\n",
    "            'inference_time': r['inference_time'],\n",
    "            'chars_per_second': r['chars_per_second'],\n",
    "            'chars': r['response_length']['chars'],\n",
    "            'words': r['response_length']['words'],\n",
    "            'sentences': r['response_length']['sentences']\n",
    "        })\n",
    "    return pd.DataFrame(data)\n",
    "\n",
    "# Create DataFrames from our experiment results\n",
    "all_results_df = pd.concat([\n",
    "    results_to_df(smollm_135m_results),\n",
    "    results_to_df(smollm_360m_results)\n",
    "])\n",
    "\n",
    "comprehensive_df = results_to_df(comprehensive_results)\n",
    "\n",
    "# Display basic statistics\n",
    "print(\"Summary statistics by model:\")\n",
    "display(all_results_df.groupby('model').agg({\n",
    "    'inference_time': ['mean', 'min', 'max'],\n",
    "    'chars_per_second': ['mean', 'min', 'max'],\n",
    "    'words': ['mean', 'min', 'max']\n",
    "}))"
   ]
  },
  {
   "cell_type": "code",
   "execution_count": 17,
   "id": "967d4479",
   "metadata": {},
   "outputs": [
    {
     "data": {
      "image/png": "[encoded data removed]",
      "text/plain": [
       "<Figure size 1000x600 with 1 Axes>"
      ]
     },
     "metadata": {},
     "output_type": "display_data"
    },
    {
     "data": {
      "image/png": "[encoded data removed]",
      "text/plain": [
       "<Figure size 1000x600 with 1 Axes>"
      ]
     },
     "metadata": {},
     "output_type": "display_data"
    },
    {
     "data": {
      "image/png": "[encoded data removed]",
      "text/plain": [
       "<Figure size 1000x600 with 1 Axes>"
      ]
     },
     "metadata": {},
     "output_type": "display_data"
    }
   ],
   "source": [
    "# Create visualizations of the results\n",
    "plt.figure(figsize=(10, 6))\n",
    "sns.barplot(x='model', y='inference_time', data=all_results_df)\n",
    "plt.title('Average Inference Time by Model')\n",
    "plt.ylabel('Time (seconds)')\n",
    "plt.xticks(rotation=45)\n",
    "plt.tight_layout()\n",
    "plt.show()\n",
    "\n",
    "plt.figure(figsize=(10, 6))\n",
    "sns.barplot(x='prompt_style', y='inference_time', hue='model', data=all_results_df)\n",
    "plt.title('Inference Time by Prompt Style and Model')\n",
    "plt.ylabel('Time (seconds)')\n",
    "plt.xticks(rotation=45)\n",
    "plt.legend(title='Model')\n",
    "plt.tight_layout()\n",
    "plt.show()\n",
    "\n",
    "plt.figure(figsize=(10, 6))\n",
    "sns.scatterplot(x='words', y='inference_time', hue='model', data=all_results_df)\n",
    "plt.title('Inference Time vs. Response Length')\n",
    "plt.xlabel('Response Length (words)')\n",
    "plt.ylabel('Inference Time (seconds)')\n",
    "plt.legend(title='Model')\n",
    "plt.tight_layout()\n",
    "plt.show()"
   ]
  },
  {
   "cell_type": "markdown",
   "id": "59dbd5fa",
   "metadata": {},
   "source": [
    "## Comprehensive Model Comparison"
   ]
  },
  {
   "cell_type": "code",
   "execution_count": 18,
   "id": "42e626e1",
   "metadata": {},
   "outputs": [
    {
     "data": {
      "image/png": "[encoded data removed]",
      "text/plain": [
       "<Figure size 1200x600 with 1 Axes>"
      ]
     },
     "metadata": {},
     "output_type": "display_data"
    },
    {
     "data": {
      "image/png": "[encoded data removed]",
      "text/plain": [
       "<Figure size 1200x600 with 1 Axes>"
      ]
     },
     "metadata": {},
     "output_type": "display_data"
    },
    {
     "data": {
      "text/html": [
       "<div>\n",
       "<style scoped>\n",
       "    .dataframe tbody tr th:only-of-type {\n",
       "        vertical-align: middle;\n",
       "    }\n",
       "\n",
       "    .dataframe tbody tr th {\n",
       "        vertical-align: top;\n",
       "    }\n",
       "\n",
       "    .dataframe thead th {\n",
       "        text-align: right;\n",
       "    }\n",
       "</style>\n",
       "<table border=\"1\" class=\"dataframe\">\n",
       "  <thead>\n",
       "    <tr style=\"text-align: right;\">\n",
       "      <th></th>\n",
       "      <th>model</th>\n",
       "      <th>inference_time</th>\n",
       "      <th>words_per_second</th>\n",
       "      <th>chars</th>\n",
       "      <th>words</th>\n",
       "      <th>sentences</th>\n",
       "    </tr>\n",
       "  </thead>\n",
       "  <tbody>\n",
       "    <tr>\n",
       "      <th>0</th>\n",
       "      <td>smollm_135m</td>\n",
       "      <td>35.450189</td>\n",
       "      <td>10.033700</td>\n",
       "      <td>2299.8</td>\n",
       "      <td>336.0</td>\n",
       "      <td>32.2</td>\n",
       "    </tr>\n",
       "    <tr>\n",
       "      <th>1</th>\n",
       "      <td>smollm_360m</td>\n",
       "      <td>57.508213</td>\n",
       "      <td>6.454043</td>\n",
       "      <td>2385.2</td>\n",
       "      <td>371.0</td>\n",
       "      <td>18.2</td>\n",
       "    </tr>\n",
       "  </tbody>\n",
       "</table>\n",
       "</div>"
      ],
      "text/plain": [
       "         model  inference_time  words_per_second   chars  words  sentences\n",
       "0  smollm_135m       35.450189         10.033700  2299.8  336.0       32.2\n",
       "1  smollm_360m       57.508213          6.454043  2385.2  371.0       18.2"
      ]
     },
     "metadata": {},
     "output_type": "display_data"
    }
   ],
   "source": [
    "# Analyze comprehensive test results\n",
    "plt.figure(figsize=(12, 6))\n",
    "sns.boxplot(x='model', y='inference_time', data=comprehensive_df)\n",
    "plt.title('Inference Time Distribution by Model')\n",
    "plt.ylabel('Time (seconds)')\n",
    "plt.xticks(rotation=45)\n",
    "plt.tight_layout()\n",
    "plt.show()\n",
    "\n",
    "# Calculate efficiency metrics (words per second)\n",
    "comprehensive_df['words_per_second'] = comprehensive_df['words'] / comprehensive_df['inference_time']\n",
    "\n",
    "plt.figure(figsize=(12, 6))\n",
    "sns.barplot(x='model', y='words_per_second', data=comprehensive_df)\n",
    "plt.title('Efficiency (Words per Second) by Model')\n",
    "plt.ylabel('Words per Second')\n",
    "plt.xticks(rotation=45)\n",
    "plt.tight_layout()\n",
    "plt.show()\n",
    "\n",
    "# Display a table with average metrics by model\n",
    "model_metrics = comprehensive_df.groupby('model').agg({\n",
    "    'inference_time': 'mean',\n",
    "    'words_per_second': 'mean',\n",
    "    'chars': 'mean',\n",
    "    'words': 'mean',\n",
    "    'sentences': 'mean'\n",
    "}).reset_index()\n",
    "\n",
    "display(model_metrics)"
   ]
  },
  {
   "cell_type": "markdown",
   "id": "0427ff72",
   "metadata": {},
   "source": [
    "## Memory Usage Analysis\n",
    "\n",
    "Let's analyze the memory usage of our local models. This is important when deploying models locally."
   ]
  },
  {
   "cell_type": "code",
   "execution_count": 19,
   "id": "49e1d2ca",
   "metadata": {},
   "outputs": [
    {
     "name": "stdout",
     "output_type": "stream",
     "text": [
      "Memory usage analysis skipped - CUDA not available\n"
     ]
    }
   ],
   "source": [
    "# Monitor memory usage (only works if using CUDA)\n",
    "if torch.cuda.is_available():\n",
    "    # Get initial memory usage\n",
    "    torch.cuda.empty_cache()\n",
    "    torch.cuda.reset_peak_memory_stats()\n",
    "    initial_memory = torch.cuda.memory_allocated() / 1024**2  # MB\n",
    "    print(f\"Initial CUDA memory allocation: {initial_memory:.2f} MB\")\n",
    "    \n",
    "    # Run a batch of inferences with each model and measure memory usage\n",
    "    memory_usage = {}\n",
    "    for model_name, pipeline in model_pipelines.items():\n",
    "        torch.cuda.reset_peak_memory_stats()\n",
    "        print(f\"\\nTesting memory usage for {model_name}\")\n",
    "        \n",
    "        # Run inference with all prompt styles\n",
    "        for prompt_style, template in prompt_templates.items():\n",
    "            formatted_prompt = template.format(question=test_questions[0])\n",
    "            _ = pipeline(\n",
    "                formatted_prompt,\n",
    "                max_new_tokens=256,\n",
    "                do_sample=True,\n",
    "                temperature=0.7\n",
    "            )\n",
    "        \n",
    "        # Record peak memory usage\n",
    "        peak_memory = torch.cuda.max_memory_allocated() / 1024**2  # MB\n",
    "        memory_usage[model_name] = peak_memory\n",
    "        \n",
    "        print(f\"Peak memory usage for {model_name}: {peak_memory:.2f} MB\")\n",
    "else:\n",
    "    print(\"Memory usage analysis skipped - CUDA not available\")"
   ]
  },
  {
   "cell_type": "markdown",
   "id": "539b63b0",
   "metadata": {},
   "source": [
    "## Conclusions from Local Prompt Engineering Experiments\n",
    "\n",
    "Based on our prompt engineering experiments with locally-loaded models, we can draw the following conclusions:\n",
    "\n",
    "1. **Local Model Performance**:\n",
    "   - SmolLM-360M generally provides better quality responses than SmolLM-135M\n",
    "   - The larger model requires more memory and has slightly slower inference times\n",
    "   - Both models are significantly faster when run locally compared to API requests\n",
    "\n",
    "2. **Prompt Engineering Impact**:\n",
    "   - Different prompt styles affect both the response quality and inference time\n",
    "   - The ideal prompt style varies by model size\n",
    "   - Structured prompts tend to work better for smaller models like SmolLM-135M\n",
    "\n",
    "3. **Efficiency Metrics**:\n",
    "   - Local inference eliminates network latency, significantly improving response time\n",
    "   - Memory usage scales with model size but remains manageable for these small models\n",
    "   - Words per second efficiency is a key metric for real-time applications\n",
    "\n",
    "4. **Practical Considerations**:\n",
    "   - SmolLM models can run efficiently on CPU, making them suitable for edge devices\n",
    "   - Memory constraints should be considered when choosing model size\n",
    "   - The best prompt style should be selected based on application requirements\n",
    "\n",
    "These insights can help optimize the RAG application by selecting the appropriate local model and prompt style based on the device capabilities and response quality requirements."
   ]
  },
  {
   "cell_type": "markdown",
   "id": "35df5b42",
   "metadata": {},
   "source": [
    "## View Prompt Engineering Experiments in MLflow\n",
    "\n",
    "To view all the prompt engineering experiments in the MLflow dashboard, run the command below:"
   ]
  },
  {
   "cell_type": "code",
   "execution_count": 20,
   "id": "506ca247",
   "metadata": {},
   "outputs": [
    {
     "name": "stderr",
     "output_type": "stream",
     "text": [
      "huggingface/tokenizers: The current process just got forked, after parallelism has already been used. Disabling parallelism to avoid deadlocks...\n",
      "To disable this warning, you can either:\n",
      "\t- Avoid using `tokenizers` before the fork if possible\n",
      "\t- Explicitly set the environment variable TOKENIZERS_PARALLELISM=(true | false)\n"
     ]
    },
    {
     "name": "stdout",
     "output_type": "stream",
     "text": [
      "[2025-04-21 18:08:30 -0400] [22977] [INFO] Starting gunicorn 23.0.0\n",
      "[2025-04-21 18:08:30 -0400] [22977] [INFO] Listening at: http://127.0.0.1:5000 (22977)\n",
      "[2025-04-21 18:08:30 -0400] [22977] [INFO] Using worker: sync\n",
      "[2025-04-21 18:08:30 -0400] [22978] [INFO] Booting worker with pid: 22978\n",
      "[2025-04-21 18:08:30 -0400] [22979] [INFO] Booting worker with pid: 22979\n",
      "[2025-04-21 18:08:30 -0400] [22980] [INFO] Booting worker with pid: 22980\n",
      "[2025-04-21 18:08:30 -0400] [22981] [INFO] Booting worker with pid: 22981\n",
      "[2025-04-21 18:16:21 -0400] [22977] [INFO] Handling signal: int\n",
      "^C\n",
      "\n",
      "Aborted!\n",
      "[2025-04-21 18:16:21 -0400] [22980] [INFO] Worker exiting (pid: 22980)\n",
      "[2025-04-21 18:16:21 -0400] [22981] [INFO] Worker exiting (pid: 22981)\n",
      "[2025-04-21 18:16:21 -0400] [22979] [INFO] Worker exiting (pid: 22979)\n",
      "[2025-04-21 18:16:21 -0400] [22978] [INFO] Worker exiting (pid: 22978)\n"
     ]
    }
   ],
   "source": [
    "# Launch MLflow UI to view all experiments\n",
    "!mlflow ui --backend-store-uri file:./mlruns"
   ]
  },
  {
   "cell_type": "markdown",
   "id": "12d4d316",
   "metadata": {},
   "source": [
    "## Clean Up Resources\n",
    "\n",
    "To free up memory after experiments, we can clean up the loaded models."
   ]
  },
  {
   "cell_type": "code",
   "execution_count": null,
   "id": "0c3266c6",
   "metadata": {},
   "outputs": [],
   "source": [
    "# # Clean up resources\n",
    "# for model_name in model_pipelines:\n",
    "#     model_pipelines[model_name] = None\n",
    "\n",
    "# # Force garbage collection\n",
    "# import gc\n",
    "# gc.collect()\n",
    "\n",
    "# # Clear CUDA cache if available\n",
    "# if torch.cuda.is_available():\n",
    "#     torch.cuda.empty_cache()\n",
    "#     print(\"CUDA memory cache cleared\")\n",
    "\n",
    "# print(\"Models unloaded and resources freed\")"
   ]
  },
  {
   "cell_type": "markdown",
   "id": "df612f23",
   "metadata": {},
   "source": [
    "## Extract the best model for use in our RAG application\n",
    "\n",
    "Let's save our best-performing SmolLM-360M model to be used in the RAG pipeline."
   ]
  },
  {
   "cell_type": "code",
   "execution_count": null,
   "id": "5de09330",
   "metadata": {},
   "outputs": [],
   "source": [
    "# Identify our best model and configuration\n",
    "best_model_name = \"smollm_360m\"\n",
    "best_prompt_style = \"role_based\"  # Adjust this based on your experiment results\n",
    "\n",
    "# Define a function that can be imported in other modules to create a local LLM handler\n",
    "def create_local_llm_handler():\n",
    "    '''\n",
    "    Creates and returns a text-generation pipeline using the local SmolLM-360M model.\n",
    "    This function can be imported in other modules to use the local model instead of API.\n",
    "    '''\n",
    "    model_id = \"HuggingFaceTB/SmolLM-360M-Instruct\"\n",
    "    device = \"cuda\" if torch.cuda.is_available() else \"cpu\"\n",
    "    \n",
    "    # Load tokenizer and model\n",
    "    tokenizer = AutoTokenizer.from_pretrained(model_id)\n",
    "    model = AutoModelForCausalLM.from_pretrained(\n",
    "        model_id,\n",
    "        torch_dtype=torch.float16 if device == \"cuda\" else torch.float32\n",
    "    )\n",
    "    \n",
    "    # Move model to device\n",
    "    model = model.to(device)\n",
    "    \n",
    "    # Create pipeline\n",
    "    pipe = pipeline(\n",
    "        \"text-generation\",\n",
    "        model=model,\n",
    "        tokenizer=tokenizer,\n",
    "        device=0 if device == \"cuda\" else -1\n",
    "    )\n",
    "    \n",
    "    return pipe\n",
    "\n",
    "# Save this code to a Python module that can be imported\n",
    "import os\n",
    "os.makedirs(\"../src/engines/local_models\", exist_ok=True)\n",
    "\n",
    "with open(\"../src/engines/local_models/__init__.py\", \"w\") as f:\n",
    "    f.write(\"# Local models module\\n\")\n",
    "\n",
    "with open(\"../src/engines/local_models/model_loader.py\", \"w\") as f:\n",
    "    f.write(\"\"\"\n",
    "from transformers import AutoModelForCausalLM, AutoTokenizer, pipeline\n",
    "import torch\n",
    "\n",
    "def create_local_llm_handler():\n",
    "    '''\n",
    "    Creates and returns a text-generation pipeline using the local SmolLM-360M model.\n",
    "    '''\n",
    "    model_id = \"HuggingFaceTB/SmolLM-360M-Instruct\"\n",
    "    device = \"cuda\" if torch.cuda.is_available() else \"cpu\"\n",
    "    \n",
    "    # Load tokenizer and model\n",
    "    tokenizer = AutoTokenizer.from_pretrained(model_id)\n",
    "    model = AutoModelForCausalLM.from_pretrained(\n",
    "        model_id,\n",
    "        torch_dtype=torch.float16 if device == \"cuda\" else torch.float32\n",
    "    )\n",
    "    \n",
    "    # Move model to device\n",
    "    model = model.to(device)\n",
    "    \n",
    "    # Create pipeline\n",
    "    pipe = pipeline(\n",
    "        \"text-generation\",\n",
    "        model=model,\n",
    "        tokenizer=tokenizer,\n",
    "        device=0 if device == \"cuda\" else -1\n",
    "    )\n",
    "    \n",
    "    return pipe\n",
    "\"\"\")\n",
    "\n",
    "# Also create a class that implements the same interface as HuggingFaceInferenceAPI\n",
    "with open(\"../src/engines/local_models/local_llm.py\", \"w\") as f:\n",
    "    f.write(\"\"\"\n",
    "from .model_loader import create_local_llm_handler\n",
    "\n",
    "class LocalLLM:\n",
    "    \"\"\"A wrapper class for local LLMs that mimics the HuggingFaceInferenceAPI interface\"\"\"\n",
    "    \n",
    "    def __init__(self):\n",
    "        self.pipeline = create_local_llm_handler()\n",
    "    \n",
    "    def complete(self, prompt, **kwargs):\n",
    "        \"\"\"Complete the prompt - mimics the HF API interface\"\"\"\n",
    "        max_new_tokens = kwargs.get('max_new_tokens', 512)\n",
    "        temperature = kwargs.get('temperature', 0.7)\n",
    "        \n",
    "        results = self.pipeline(\n",
    "            prompt,\n",
    "            max_new_tokens=max_new_tokens,\n",
    "            do_sample=True,\n",
    "            temperature=temperature,\n",
    "            return_full_text=False,\n",
    "            pad_token_id=50256,\n",
    "        )\n",
    "        \n",
    "        return results[0]['generated_text']\n",
    "        \n",
    "    def query(self, query_text, **kwargs):\n",
    "        \"\"\"For compatibility with llama_index query interface\"\"\"\n",
    "        # Use role-based prompt template for best results\n",
    "        prompt = f\"You are an AI assistant for Al Akhawayn University in Ifrane. Please answer the following question accurately: {query_text}\"\n",
    "        return self.complete(prompt, **kwargs)\n",
    "\"\"\")\n",
    "\n",
    "print(\"✅ Model utilities saved to src/engines/local_models/\")"
   ]
  }
 ],
 "metadata": {
  "kernelspec": {
   "display_name": "venv",
   "language": "python",
   "name": "python3"
  },
  "language_info": {
   "codemirror_mode": {
    "name": "ipython",
    "version": 3
   },
   "file_extension": ".py",
   "mimetype": "text/x-python",
   "name": "python",
   "nbconvert_exporter": "python",
   "pygments_lexer": "ipython3",
   "version": "3.12.3"
  }
 },
 "nbformat": 4,
 "nbformat_minor": 5
}
